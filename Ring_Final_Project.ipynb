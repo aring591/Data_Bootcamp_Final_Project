{
 "cells": [
  {
   "cell_type": "markdown",
   "metadata": {},
   "source": [
    "# Final Proposal: The Effects of Subsidence on Houston, Texas\n",
    "\n",
    "#### Principal Investigator: Ava Ring\n",
    "#### Email: aring@nyu.edu\n",
    "\n",
    "This project will examine the compaction of land in the Houston, Texas area. A recent hurricane, Hurricane Harvey, devestated the area and highlighted the fact that most of Houston is below sea level and prone to flooding. This peaked my interest and led me to ask, is Houston sinking?\n",
    "\n",
    "There are many reasons parts of the earth's surface will sink, but the most prevelant is *subsidence*. \"Land subsidence is a gradual settling or sudden sinking of the Earth's surface owing to subsurface movement of earth materials.\" In most cases, subsidence is caused from the extraction of water for drinking or agricultural purposes from layers of rock. When the water is extracted, it causes the layers to smash together, compact, and then sink. Subsidence occurs most frequently in dry, arid places where extracting water from aquifers is a necessity. Besides Texas, Nevada and California also contain large subsidence bowls More information on subsidence can be found [here](https://water.usgs.gov/ogw/subsidence.html). \n",
    "\n",
    "Let me give you an illustrative example of subsidence. In the 1950s, a group of oil tycoons moved to an area south east of Houston city center, which they titled \"Oil Bay.\" With the new residents came increased development of the land and increased extraction of water from a nearby aquifer. Because Houston is already below sea-level and so flat, when a major hurricane hit (Alicia) the whole town was under water. It had sunk over 30 feet in a few decades. \n",
    "\n",
    "Houston is the largest subsidence bowl in the United States, and the first to be studied. After Oil Bay, Harris-County created Harris-Galveston Subsidence District (HGSD) in 1975. \"The District was created to provide for the regulation of groundwater withdrawal throughout Harris and Galveston counties for the purpose of preventing land subsidence, which leads to increased [flooding][1].\"\n",
    "\n",
    "This project will examine the positive effects Harris-Galveston Subsidence District (HGDS) has had on subsidence and land compaction in Houston. It will show how water extraction from aquifers leads to land subsindence. It will demonstrate how subsidence has decreased since HGDS's founding and regulations have taken place. \n",
    "\n",
    "Vocababulary to know:  \n",
    "- aquifer - a body of permeable rock that can contain or transmit groundwater.\n",
    "- borehole extensometer - measurement tool used to determine the movement behavior of soil and rock masses\n",
    "\n",
    "\n",
    "[1]: https://hgsubsidence.org/about-the-district/ "
   ]
  },
  {
   "cell_type": "markdown",
   "metadata": {},
   "source": [
    "* * *"
   ]
  },
  {
   "cell_type": "markdown",
   "metadata": {},
   "source": [
    "### Data Report "
   ]
  },
  {
   "cell_type": "markdown",
   "metadata": {},
   "source": [
    "Land compaction was recorded using 13 extensometers near the Chicot and Evangeline aquifers in the Houston area. The extensometer sites were establed from 1973 to 1980. Measurements of compaction are recorded about 13 times a year until 2015. \n",
    "\n",
    "The data can be found at [USGS.gov](https://pubs.usgs.gov/sim/3365/tables/). "
   ]
  },
  {
   "cell_type": "code",
   "execution_count": 60,
   "metadata": {
    "collapsed": true
   },
   "outputs": [],
   "source": [
    "import pandas as pd \n",
    "import matplotlib.pyplot as plt \n",
    "import numpy as np\n",
    "import matplotlib.dates as mdates\n",
    "from mpl_toolkits.axes_grid1.inset_locator import zoomed_inset_axes\n",
    "\n",
    "\n",
    "%matplotlib inline"
   ]
  },
  {
   "cell_type": "markdown",
   "metadata": {},
   "source": [
    "- pandas is used to make the dataframes of extensometer data.\n",
    "- matplotlib.pyplot is used to plot the data.\n",
    "- numpy is used for manipulation of the data.\n",
    "- matplotlib.dates is for putting datetime series data on the graph's x axis.\n",
    "- mpl_toolkits.axes_grid1.inset_locator is needed for a graph inset."
   ]
  },
  {
   "cell_type": "markdown",
   "metadata": {},
   "source": [
    "### Step One: Reading in the Data"
   ]
  },
  {
   "cell_type": "code",
   "execution_count": 61,
   "metadata": {},
   "outputs": [
    {
     "data": {
      "text/plain": [
       "'sim3365_table4D.xlsx'"
      ]
     },
     "execution_count": 61,
     "metadata": {},
     "output_type": "execute_result"
    }
   ],
   "source": [
    "usgs = 'https://pubs.usgs.gov/sim/3365/tables/' \n",
    "\n",
    "# this is where you can find the most recent subsidence data\n",
    "\n",
    "data_list = [\"sim3365_table4A.xlsx\", \"sim3365_table4B.xlsx\", \"sim3365_table4C.xlsx\",\n",
    "             \"sim3365_table4D.xlsx\", \"sim3365_table4E.xlsx\", \"sim3365_table4F.xlsx\",\n",
    "             \"sim3365_table4G.xlsx\", \"sim3365_table4H.xlsx\", \"sim3365_table4I.xlsx\",\n",
    "             \"sim3365_table4J.xlsx\", \"sim3365_table4K.xlsx\", \"sim3365_table4L.xlsx\",\n",
    "             \"sim3365_table4M.xlsx\"]\n",
    "\n",
    "# here are the 13 tables of measured cumulative compaction of subsurface sediments.\n",
    "\n",
    "data_list[3]"
   ]
  },
  {
   "cell_type": "code",
   "execution_count": 62,
   "metadata": {},
   "outputs": [
    {
     "data": {
      "text/plain": [
       "['https://pubs.usgs.gov/sim/3365/tables/sim3365_table4A.xlsx',\n",
       " 'https://pubs.usgs.gov/sim/3365/tables/sim3365_table4B.xlsx',\n",
       " 'https://pubs.usgs.gov/sim/3365/tables/sim3365_table4C.xlsx',\n",
       " 'https://pubs.usgs.gov/sim/3365/tables/sim3365_table4D.xlsx',\n",
       " 'https://pubs.usgs.gov/sim/3365/tables/sim3365_table4E.xlsx',\n",
       " 'https://pubs.usgs.gov/sim/3365/tables/sim3365_table4F.xlsx',\n",
       " 'https://pubs.usgs.gov/sim/3365/tables/sim3365_table4G.xlsx',\n",
       " 'https://pubs.usgs.gov/sim/3365/tables/sim3365_table4H.xlsx',\n",
       " 'https://pubs.usgs.gov/sim/3365/tables/sim3365_table4I.xlsx',\n",
       " 'https://pubs.usgs.gov/sim/3365/tables/sim3365_table4J.xlsx',\n",
       " 'https://pubs.usgs.gov/sim/3365/tables/sim3365_table4K.xlsx',\n",
       " 'https://pubs.usgs.gov/sim/3365/tables/sim3365_table4L.xlsx',\n",
       " 'https://pubs.usgs.gov/sim/3365/tables/sim3365_table4M.xlsx']"
      ]
     },
     "execution_count": 62,
     "metadata": {},
     "output_type": "execute_result"
    }
   ],
   "source": [
    "# combining the path to the website and the specific tables' urls to make a readable url string\n",
    "\n",
    "urls = [(usgs + item) for item in data_list]\n",
    "\n",
    "urls"
   ]
  },
  {
   "cell_type": "markdown",
   "metadata": {},
   "source": [
    "Now we are reading in the excel sheets. "
   ]
  },
  {
   "cell_type": "code",
   "execution_count": 63,
   "metadata": {},
   "outputs": [
    {
     "data": {
      "text/html": [
       "<div>\n",
       "<style>\n",
       "    .dataframe thead tr:only-child th {\n",
       "        text-align: right;\n",
       "    }\n",
       "\n",
       "    .dataframe thead th {\n",
       "        text-align: left;\n",
       "    }\n",
       "\n",
       "    .dataframe tbody tr th {\n",
       "        vertical-align: top;\n",
       "    }\n",
       "</style>\n",
       "<table border=\"1\" class=\"dataframe\">\n",
       "  <thead>\n",
       "    <tr style=\"text-align: right;\">\n",
       "      <th></th>\n",
       "      <th>Measurement date</th>\n",
       "      <th>Compaction (feet)</th>\n",
       "    </tr>\n",
       "  </thead>\n",
       "  <tbody>\n",
       "    <tr>\n",
       "      <th>0</th>\n",
       "      <td>1980-07-22</td>\n",
       "      <td>0.000</td>\n",
       "    </tr>\n",
       "    <tr>\n",
       "      <th>1</th>\n",
       "      <td>1980-08-19</td>\n",
       "      <td>0.008</td>\n",
       "    </tr>\n",
       "    <tr>\n",
       "      <th>2</th>\n",
       "      <td>1980-09-16</td>\n",
       "      <td>0.014</td>\n",
       "    </tr>\n",
       "    <tr>\n",
       "      <th>3</th>\n",
       "      <td>1980-10-14</td>\n",
       "      <td>0.002</td>\n",
       "    </tr>\n",
       "    <tr>\n",
       "      <th>4</th>\n",
       "      <td>1980-11-10</td>\n",
       "      <td>0.025</td>\n",
       "    </tr>\n",
       "  </tbody>\n",
       "</table>\n",
       "</div>"
      ],
      "text/plain": [
       "  Measurement date  Compaction (feet)\n",
       "0       1980-07-22              0.000\n",
       "1       1980-08-19              0.008\n",
       "2       1980-09-16              0.014\n",
       "3       1980-10-14              0.002\n",
       "4       1980-11-10              0.025"
      ]
     },
     "execution_count": 63,
     "metadata": {},
     "output_type": "execute_result"
    }
   ],
   "source": [
    "# I use list comprehension for each of the urls in list called\"urls\"\n",
    "\n",
    "# some cleaning takes place. \n",
    "# the first three rows are text explaining where the extensometer is, so I skip those.\n",
    "# the last two rows give net decrease in  land-surface elevation, but I skip this too. \n",
    "# lastly, two columns on the excel sheet are just blank, so I parse them out.\n",
    "\n",
    "list_of_dfs = [pd.read_excel # reading all dfs in\n",
    "               (item,skiprows = [0, 1, 2], # skipping their uneeded title rows\n",
    "                skip_footer = 2, # skipping their footer too\n",
    "                parse_cols=[0,2]) # slicing only data columns\n",
    "               for item in urls] \n",
    "\n",
    "list_of_dfs[0].head() # seeing how it looks"
   ]
  },
  {
   "cell_type": "code",
   "execution_count": 64,
   "metadata": {},
   "outputs": [
    {
     "data": {
      "text/html": [
       "<div>\n",
       "<style>\n",
       "    .dataframe thead tr:only-child th {\n",
       "        text-align: right;\n",
       "    }\n",
       "\n",
       "    .dataframe thead th {\n",
       "        text-align: left;\n",
       "    }\n",
       "\n",
       "    .dataframe tbody tr th {\n",
       "        vertical-align: top;\n",
       "    }\n",
       "</style>\n",
       "<table border=\"1\" class=\"dataframe\">\n",
       "  <thead>\n",
       "    <tr style=\"text-align: right;\">\n",
       "      <th></th>\n",
       "      <th>Compaction</th>\n",
       "    </tr>\n",
       "    <tr>\n",
       "      <th>Measurement_date</th>\n",
       "      <th></th>\n",
       "    </tr>\n",
       "  </thead>\n",
       "  <tbody>\n",
       "    <tr>\n",
       "      <th>1973-07-13 00:00:00</th>\n",
       "      <td>0.000</td>\n",
       "    </tr>\n",
       "    <tr>\n",
       "      <th>1973-08-13 00:00:00</th>\n",
       "      <td>0.007</td>\n",
       "    </tr>\n",
       "    <tr>\n",
       "      <th>1973-09-13 00:00:00</th>\n",
       "      <td>0.005</td>\n",
       "    </tr>\n",
       "    <tr>\n",
       "      <th>1973-10-11 00:00:00</th>\n",
       "      <td>0.010</td>\n",
       "    </tr>\n",
       "    <tr>\n",
       "      <th>1973-11-08 00:00:00</th>\n",
       "      <td>0.012</td>\n",
       "    </tr>\n",
       "  </tbody>\n",
       "</table>\n",
       "</div>"
      ],
      "text/plain": [
       "                     Compaction\n",
       "Measurement_date               \n",
       "1973-07-13 00:00:00       0.000\n",
       "1973-08-13 00:00:00       0.007\n",
       "1973-09-13 00:00:00       0.005\n",
       "1973-10-11 00:00:00       0.010\n",
       "1973-11-08 00:00:00       0.012"
      ]
     },
     "execution_count": 64,
     "metadata": {},
     "output_type": "execute_result"
    }
   ],
   "source": [
    "# we still need to fix the column names so they are easier to work with. \n",
    "# lukily, all the dataframes are structured the same way, so a for loop fixes all tables.\n",
    "# I also set the index to the Measurement date since this is a time series dataframe.\n",
    "\n",
    "for df in list_of_dfs:\n",
    "    df.columns = [\"Measurement_date\", \"Compaction\"]\n",
    "    \n",
    "    df.set_index(\"Measurement_date\", inplace = True)\n",
    "    \n",
    "list_of_dfs[6].head()"
   ]
  },
  {
   "cell_type": "code",
   "execution_count": 65,
   "metadata": {
    "collapsed": true
   },
   "outputs": [],
   "source": [
    "# now I name the 13 dataframes according to their location. \n",
    "# I set a string name for them as well so that I can easily identify each one later on.\n",
    "\n",
    "lake_houston = list_of_dfs[0] #tableA\n",
    "lake_houston.name = \"lake_houston\"\n",
    "\n",
    "northeast = list_of_dfs[1] #tableB\n",
    "northeast.name = \"northeast\"\n",
    "    \n",
    "southwest = list_of_dfs[2] #tableC\n",
    "southwest.name = \"southwest\"\n",
    "    \n",
    "east_end = list_of_dfs[3] #tableD\n",
    "east_end.name = \"east_end\"\n",
    "\n",
    "addicks = list_of_dfs[4] #tableE\n",
    "addicks.name = \"addicks\"\n",
    "\n",
    "johnson_space = list_of_dfs[5] #tableF\n",
    "johnson_space.name = \"johnson_space\"\n",
    "\n",
    "texas_city = list_of_dfs[6] #tableG\n",
    "texas_city.name = \"texas_city\"\n",
    "\n",
    "baytown_shallow = list_of_dfs[7] #tableH\n",
    "baytown_shallow.name = \"baytown_shallow\"\n",
    "\n",
    "baytown_deep = list_of_dfs[8] #tableI\n",
    "baytown_deep.name = \"baytown_deep\"\n",
    "    \n",
    "seabrook = list_of_dfs[9] #tableJ\n",
    "seabrook.name = \"seabrook\"\n",
    "\n",
    "clear_lake_shallow = list_of_dfs[10] #tableK \n",
    "clear_lake_shallow.name = \"clear_lake_shallow\"\n",
    "\n",
    "clear_lake_deep = list_of_dfs[11] #tableL\n",
    "clear_lake_deep.name = \"clear_lake_deep\"\n",
    "\n",
    "pasadena = list_of_dfs[12] #tableM\n",
    "pasadena.name = \"pasadena\""
   ]
  },
  {
   "cell_type": "markdown",
   "metadata": {},
   "source": [
    "Let's take a look at them all."
   ]
  },
  {
   "cell_type": "code",
   "execution_count": 66,
   "metadata": {},
   "outputs": [
    {
     "name": "stdout",
     "output_type": "stream",
     "text": [
      "lake_houston\n",
      "                  Compaction\n",
      "Measurement_date            \n",
      "1980-07-22             0.000\n",
      "1980-08-19             0.008\n",
      "1980-09-16             0.014\n",
      "1980-10-14             0.002\n",
      "1980-11-10             0.025\n",
      "\n",
      "\n",
      "northeast\n",
      "                  Compaction\n",
      "Measurement_date            \n",
      "1980-06-24             0.000\n",
      "1980-07-22             0.007\n",
      "1980-08-19             0.017\n",
      "1980-09-05             0.020\n",
      "1980-10-14             0.033\n",
      "\n",
      "\n",
      "southwest\n",
      "                  Compaction\n",
      "Measurement_date            \n",
      "1980-06-17             0.000\n",
      "1980-06-24             0.003\n",
      "1980-07-23             0.037\n",
      "1980-07-30             0.045\n",
      "1980-08-19             0.057\n",
      "\n",
      "\n",
      "east_end\n",
      "                  Compaction\n",
      "Measurement_date            \n",
      "1973-07-20             0.000\n",
      "1973-07-25             0.002\n",
      "1973-08-13             0.003\n",
      "1973-09-04             0.016\n",
      "1973-09-06             0.014\n",
      "\n",
      "\n",
      "addicks\n",
      "                  Compaction\n",
      "Measurement_date            \n",
      "1974-07-11             0.000\n",
      "1974-07-24             0.004\n",
      "1974-08-30             0.009\n",
      "1974-09-30             0.010\n",
      "1974-10-30             0.020\n",
      "\n",
      "\n",
      "johnson_space\n",
      "                  Compaction\n",
      "Measurement_date            \n",
      "1973-07-24             1.347\n",
      "1973-08-24             1.357\n",
      "1973-09-24             1.367\n",
      "1973-10-24             1.380\n",
      "1973-11-21             1.395\n",
      "\n",
      "\n",
      "texas_city\n",
      "                     Compaction\n",
      "Measurement_date               \n",
      "1973-07-13 00:00:00       0.000\n",
      "1973-08-13 00:00:00       0.007\n",
      "1973-09-13 00:00:00       0.005\n",
      "1973-10-11 00:00:00       0.010\n",
      "1973-11-08 00:00:00       0.012\n",
      "\n",
      "\n",
      "baytown_shallow\n",
      "                  Compaction\n",
      "Measurement_date            \n",
      "1973-07-24             0.000\n",
      "1973-08-13             0.002\n",
      "1973-08-17             0.001\n",
      "1973-09-13             0.005\n",
      "1973-10-11             0.015\n",
      "\n",
      "\n",
      "baytown_deep\n",
      "                  Compaction\n",
      "Measurement_date            \n",
      "1973-07-24             0.000\n",
      "1973-08-13             0.008\n",
      "1973-08-19             0.008\n",
      "1973-09-04             0.017\n",
      "1973-09-06             0.015\n",
      "\n",
      "\n",
      "seabrook\n",
      "                  Compaction\n",
      "Measurement_date            \n",
      "1973-07-20             0.000\n",
      "1973-07-24             0.002\n",
      "1973-08-13             0.014\n",
      "1973-08-17             0.016\n",
      "1973-08-31             0.027\n",
      "\n",
      "\n",
      "clear_lake_shallow\n",
      "                  Compaction\n",
      "Measurement_date            \n",
      "1976-05-26             0.000\n",
      "1976-06-21             0.001\n",
      "1976-07-20             0.007\n",
      "1976-08-16             0.019\n",
      "1976-09-16             0.031\n",
      "\n",
      "\n",
      "clear_lake_deep\n",
      "                  Compaction\n",
      "Measurement_date            \n",
      "1976-05-26             0.000\n",
      "1976-06-09             0.004\n",
      "1976-06-21             0.002\n",
      "1976-07-20             0.009\n",
      "1976-08-16             0.021\n",
      "\n",
      "\n",
      "pasadena\n",
      "                  Compaction\n",
      "Measurement_date            \n",
      "1975-10-08             0.000\n",
      "1975-10-20             0.010\n",
      "1975-11-20             0.026\n",
      "1975-12-22             0.040\n",
      "1976-01-21             0.054\n",
      "\n",
      "\n"
     ]
    }
   ],
   "source": [
    "alldfs_list = [lake_houston, northeast, southwest, east_end, addicks, \n",
    "               johnson_space, texas_city, baytown_shallow, baytown_deep, \n",
    "               seabrook, clear_lake_shallow, clear_lake_deep, pasadena]\n",
    "\n",
    "for df in alldfs_list: \n",
    "    print(df.name)\n",
    "    print(df.head())\n",
    "    \n",
    "    print(\"\\n\")"
   ]
  },
  {
   "cell_type": "markdown",
   "metadata": {},
   "source": [
    "* * *"
   ]
  },
  {
   "cell_type": "markdown",
   "metadata": {},
   "source": [
    "#### Problem with Data\n",
    "The dataframes look pretty good now, with a few exceptions.\n",
    "\n",
    "#### Texas City \n",
    "This dataframe has a different index that consists of strings and not DateTime Index. I have to look further into this because if I want to use a function on it, the index has to be in DateTimeIndex form.\n",
    "\n",
    "#### Different Start Dates \n",
    "For all of the dataframes (besides Johnson Space), the data starts at 0 when the first measurement of subsidence was taken. Then, it measures the compaction in feet relative to that start point. \n",
    "\n",
    "The problem is that the first measurement was taken at different years for some of the sites. For example, Lake Houston subsidence measures start in 1980, while Addicks data starts in 1973. So if I compare Lake Houston subsidence vs Addicks subsidense in 2015, it will seem like Addicks has sunk significantly more compared to the other sites. However, it will only seem this way because Addicks data includes 7 additional years of measurements. \n",
    "\n",
    "The dataframes i have to change are southwest, east_end, addicks, johnson_space, texas_city, baytown_shallow, baytown_deep, seabrook, clear_lake_shallow, clear_lake_deep and pasadena.\n",
    "\n",
    "#### Johnson Space \n",
    "Johnson Space dataframe is also a bit strange because it does not start with a measurement of 0, but of 1.347. I will rework this dataframe so it starts with 0 and goes from there, so it is consistent with the other sites. "
   ]
  },
  {
   "cell_type": "markdown",
   "metadata": {},
   "source": [
    "### Step 2: Fix Texas City "
   ]
  },
  {
   "cell_type": "code",
   "execution_count": 67,
   "metadata": {},
   "outputs": [
    {
     "data": {
      "text/html": [
       "<div>\n",
       "<style>\n",
       "    .dataframe thead tr:only-child th {\n",
       "        text-align: right;\n",
       "    }\n",
       "\n",
       "    .dataframe thead th {\n",
       "        text-align: left;\n",
       "    }\n",
       "\n",
       "    .dataframe tbody tr th {\n",
       "        vertical-align: top;\n",
       "    }\n",
       "</style>\n",
       "<table border=\"1\" class=\"dataframe\">\n",
       "  <thead>\n",
       "    <tr style=\"text-align: right;\">\n",
       "      <th></th>\n",
       "      <th>Compaction</th>\n",
       "    </tr>\n",
       "    <tr>\n",
       "      <th>Measurement_date</th>\n",
       "      <th></th>\n",
       "    </tr>\n",
       "  </thead>\n",
       "  <tbody>\n",
       "    <tr>\n",
       "      <th>1973-07-13 00:00:00</th>\n",
       "      <td>0.000</td>\n",
       "    </tr>\n",
       "    <tr>\n",
       "      <th>1973-08-13 00:00:00</th>\n",
       "      <td>0.007</td>\n",
       "    </tr>\n",
       "    <tr>\n",
       "      <th>1973-09-13 00:00:00</th>\n",
       "      <td>0.005</td>\n",
       "    </tr>\n",
       "    <tr>\n",
       "      <th>1973-10-11 00:00:00</th>\n",
       "      <td>0.010</td>\n",
       "    </tr>\n",
       "    <tr>\n",
       "      <th>1973-11-08 00:00:00</th>\n",
       "      <td>0.012</td>\n",
       "    </tr>\n",
       "  </tbody>\n",
       "</table>\n",
       "</div>"
      ],
      "text/plain": [
       "                     Compaction\n",
       "Measurement_date               \n",
       "1973-07-13 00:00:00       0.000\n",
       "1973-08-13 00:00:00       0.007\n",
       "1973-09-13 00:00:00       0.005\n",
       "1973-10-11 00:00:00       0.010\n",
       "1973-11-08 00:00:00       0.012"
      ]
     },
     "execution_count": 67,
     "metadata": {},
     "output_type": "execute_result"
    }
   ],
   "source": [
    "texas_city.head()"
   ]
  },
  {
   "cell_type": "markdown",
   "metadata": {},
   "source": [
    "Texas City has the time, which is a red flag. The index type is below. "
   ]
  },
  {
   "cell_type": "code",
   "execution_count": 68,
   "metadata": {},
   "outputs": [
    {
     "name": "stdout",
     "output_type": "stream",
     "text": [
      "<class 'pandas.core.indexes.base.Index'>\n",
      "<class 'pandas.core.indexes.datetimes.DatetimeIndex'>\n"
     ]
    }
   ],
   "source": [
    "print(type(texas_city.index))\n",
    "\n",
    "print(type(addicks.index))\n",
    "\n",
    "# this shows that the index is not right. \n",
    "# I need a datetime index for texas_city, like for example addicks."
   ]
  },
  {
   "cell_type": "markdown",
   "metadata": {},
   "source": [
    "so i read in the data again so that I can fix the problem from the beginning."
   ]
  },
  {
   "cell_type": "code",
   "execution_count": 69,
   "metadata": {
    "collapsed": true
   },
   "outputs": [],
   "source": [
    "texasurl = 'https://pubs.usgs.gov/sim/3365/tables/sim3365_table4G.xlsx'\n",
    "\n",
    "new_texas_city = pd.read_excel(texasurl,skiprows = [0, 1, 2], skip_footer = 2, parse_cols=[0,2])"
   ]
  },
  {
   "cell_type": "code",
   "execution_count": 70,
   "metadata": {},
   "outputs": [
    {
     "data": {
      "text/html": [
       "<div>\n",
       "<style>\n",
       "    .dataframe thead tr:only-child th {\n",
       "        text-align: right;\n",
       "    }\n",
       "\n",
       "    .dataframe thead th {\n",
       "        text-align: left;\n",
       "    }\n",
       "\n",
       "    .dataframe tbody tr th {\n",
       "        vertical-align: top;\n",
       "    }\n",
       "</style>\n",
       "<table border=\"1\" class=\"dataframe\">\n",
       "  <thead>\n",
       "    <tr style=\"text-align: right;\">\n",
       "      <th></th>\n",
       "      <th>Measurement date</th>\n",
       "      <th>Compaction (feet)</th>\n",
       "    </tr>\n",
       "  </thead>\n",
       "  <tbody>\n",
       "    <tr>\n",
       "      <th>542</th>\n",
       "      <td>2015-03-30 00:00:00</td>\n",
       "      <td>0.097</td>\n",
       "    </tr>\n",
       "    <tr>\n",
       "      <th>543</th>\n",
       "      <td>2015-04-29 00:00:00</td>\n",
       "      <td>0.096</td>\n",
       "    </tr>\n",
       "    <tr>\n",
       "      <th>544</th>\n",
       "      <td>2015-05-19 00:00:00</td>\n",
       "      <td>0.097</td>\n",
       "    </tr>\n",
       "    <tr>\n",
       "      <th>545</th>\n",
       "      <td>2015-06-22 00:00:00</td>\n",
       "      <td>0.097</td>\n",
       "    </tr>\n",
       "    <tr>\n",
       "      <th>546</th>\n",
       "      <td>7/23/201</td>\n",
       "      <td>0.099</td>\n",
       "    </tr>\n",
       "    <tr>\n",
       "      <th>547</th>\n",
       "      <td>2015-09-08 00:00:00</td>\n",
       "      <td>0.100</td>\n",
       "    </tr>\n",
       "    <tr>\n",
       "      <th>548</th>\n",
       "      <td>2015-09-29 00:00:00</td>\n",
       "      <td>0.096</td>\n",
       "    </tr>\n",
       "    <tr>\n",
       "      <th>549</th>\n",
       "      <td>2015-10-28 00:00:00</td>\n",
       "      <td>0.097</td>\n",
       "    </tr>\n",
       "    <tr>\n",
       "      <th>550</th>\n",
       "      <td>2015-11-23 00:00:00</td>\n",
       "      <td>0.096</td>\n",
       "    </tr>\n",
       "    <tr>\n",
       "      <th>551</th>\n",
       "      <td>2015-12-21 00:00:00</td>\n",
       "      <td>0.095</td>\n",
       "    </tr>\n",
       "  </tbody>\n",
       "</table>\n",
       "</div>"
      ],
      "text/plain": [
       "        Measurement date  Compaction (feet)\n",
       "542  2015-03-30 00:00:00              0.097\n",
       "543  2015-04-29 00:00:00              0.096\n",
       "544  2015-05-19 00:00:00              0.097\n",
       "545  2015-06-22 00:00:00              0.097\n",
       "546             7/23/201              0.099\n",
       "547  2015-09-08 00:00:00              0.100\n",
       "548  2015-09-29 00:00:00              0.096\n",
       "549  2015-10-28 00:00:00              0.097\n",
       "550  2015-11-23 00:00:00              0.096\n",
       "551  2015-12-21 00:00:00              0.095"
      ]
     },
     "execution_count": 70,
     "metadata": {},
     "output_type": "execute_result"
    }
   ],
   "source": [
    "new_texas_city.tail(10)"
   ]
  },
  {
   "cell_type": "markdown",
   "metadata": {},
   "source": [
    "Here you can see row 546 was a typo. Therefore, we have to change that entry to a date. In the data, \"7/21/201\" instead of \"7/21/2015.\" This is why the column \"Measurement date\" was considered a string object, and not a datetime series."
   ]
  },
  {
   "cell_type": "code",
   "execution_count": 71,
   "metadata": {},
   "outputs": [
    {
     "data": {
      "text/html": [
       "<div>\n",
       "<style>\n",
       "    .dataframe thead tr:only-child th {\n",
       "        text-align: right;\n",
       "    }\n",
       "\n",
       "    .dataframe thead th {\n",
       "        text-align: left;\n",
       "    }\n",
       "\n",
       "    .dataframe tbody tr th {\n",
       "        vertical-align: top;\n",
       "    }\n",
       "</style>\n",
       "<table border=\"1\" class=\"dataframe\">\n",
       "  <thead>\n",
       "    <tr style=\"text-align: right;\">\n",
       "      <th></th>\n",
       "      <th>Measurement_date</th>\n",
       "      <th>Compaction</th>\n",
       "    </tr>\n",
       "  </thead>\n",
       "  <tbody>\n",
       "    <tr>\n",
       "      <th>542</th>\n",
       "      <td>2015-03-30 00:00:00</td>\n",
       "      <td>0.097</td>\n",
       "    </tr>\n",
       "    <tr>\n",
       "      <th>543</th>\n",
       "      <td>2015-04-29 00:00:00</td>\n",
       "      <td>0.096</td>\n",
       "    </tr>\n",
       "    <tr>\n",
       "      <th>544</th>\n",
       "      <td>2015-05-19 00:00:00</td>\n",
       "      <td>0.097</td>\n",
       "    </tr>\n",
       "    <tr>\n",
       "      <th>545</th>\n",
       "      <td>2015-06-22 00:00:00</td>\n",
       "      <td>0.097</td>\n",
       "    </tr>\n",
       "    <tr>\n",
       "      <th>546</th>\n",
       "      <td>2015-07-23 00:00:00</td>\n",
       "      <td>0.099</td>\n",
       "    </tr>\n",
       "    <tr>\n",
       "      <th>547</th>\n",
       "      <td>2015-09-08 00:00:00</td>\n",
       "      <td>0.100</td>\n",
       "    </tr>\n",
       "    <tr>\n",
       "      <th>548</th>\n",
       "      <td>2015-09-29 00:00:00</td>\n",
       "      <td>0.096</td>\n",
       "    </tr>\n",
       "    <tr>\n",
       "      <th>549</th>\n",
       "      <td>2015-10-28 00:00:00</td>\n",
       "      <td>0.097</td>\n",
       "    </tr>\n",
       "    <tr>\n",
       "      <th>550</th>\n",
       "      <td>2015-11-23 00:00:00</td>\n",
       "      <td>0.096</td>\n",
       "    </tr>\n",
       "    <tr>\n",
       "      <th>551</th>\n",
       "      <td>2015-12-21 00:00:00</td>\n",
       "      <td>0.095</td>\n",
       "    </tr>\n",
       "  </tbody>\n",
       "</table>\n",
       "</div>"
      ],
      "text/plain": [
       "        Measurement_date  Compaction\n",
       "542  2015-03-30 00:00:00       0.097\n",
       "543  2015-04-29 00:00:00       0.096\n",
       "544  2015-05-19 00:00:00       0.097\n",
       "545  2015-06-22 00:00:00       0.097\n",
       "546  2015-07-23 00:00:00       0.099\n",
       "547  2015-09-08 00:00:00       0.100\n",
       "548  2015-09-29 00:00:00       0.096\n",
       "549  2015-10-28 00:00:00       0.097\n",
       "550  2015-11-23 00:00:00       0.096\n",
       "551  2015-12-21 00:00:00       0.095"
      ]
     },
     "execution_count": 71,
     "metadata": {},
     "output_type": "execute_result"
    }
   ],
   "source": [
    "new_texas_city.columns = [\"Measurement_date\", \"Compaction\"] \n",
    "\n",
    "# I change the name of the columns so they are easier to work with\n",
    "\n",
    "new_texas_city.loc[546, \"Measurement_date\"] = \"2015-07-23 00:00:00\"\n",
    "\n",
    "# then I change row 546 to the correct date\n",
    "\n",
    "new_texas_city.tail(10)"
   ]
  },
  {
   "cell_type": "code",
   "execution_count": 72,
   "metadata": {
    "collapsed": true
   },
   "outputs": [],
   "source": [
    "# now I can convert the column \"Measurement_date\" to a DateTime form, instead of a string form.\n",
    "\n",
    "new_texas_city[\"Measurement_date\"] = pd.to_datetime(new_texas_city[\"Measurement_date\"])"
   ]
  },
  {
   "cell_type": "code",
   "execution_count": 73,
   "metadata": {},
   "outputs": [
    {
     "name": "stdout",
     "output_type": "stream",
     "text": [
      "                  Compaction\n",
      "Measurement_date            \n",
      "1973-07-13             0.000\n",
      "1973-08-13             0.007\n",
      "1973-09-13             0.005\n",
      "1973-10-11             0.010\n",
      "1973-11-08             0.012\n",
      "<class 'pandas.core.indexes.datetimes.DatetimeIndex'>\n"
     ]
    }
   ],
   "source": [
    "# Then I set the index to this column and set it inplace True.\n",
    "\n",
    "new_texas_city.set_index(\"Measurement_date\", inplace = True)\n",
    "\n",
    "texas_city = new_texas_city\n",
    "\n",
    "print(texas_city.head())\n",
    "\n",
    "print(type(texas_city.index))"
   ]
  },
  {
   "cell_type": "markdown",
   "metadata": {},
   "source": [
    "### Step 3: Fix Different Start Dates"
   ]
  },
  {
   "cell_type": "markdown",
   "metadata": {},
   "source": [
    "First, I truncate the dataframes to start at July 1980. "
   ]
  },
  {
   "cell_type": "code",
   "execution_count": 74,
   "metadata": {
    "collapsed": true
   },
   "outputs": [],
   "source": [
    "# I create a function I can apply on each of the dataframes. \n",
    "# This function tells it to drop any entries with DateTimeIndexes before July, 1980.\n",
    "\n",
    "def dropyears(df_):\n",
    "    return(df_.truncate(before = \"1980-7\"))  "
   ]
  },
  {
   "cell_type": "code",
   "execution_count": 75,
   "metadata": {
    "collapsed": true
   },
   "outputs": [],
   "source": [
    "southwest = southwest.apply(dropyears)\n",
    "\n",
    "east_end = east_end.apply(dropyears)\n",
    "\n",
    "addicks = addicks.apply(dropyears)\n",
    "\n",
    "johnson_space = johnson_space.apply(dropyears)\n",
    "\n",
    "texas_city = texas_city.apply(dropyears)\n",
    "\n",
    "baytown_shallow = baytown_shallow.apply(dropyears)\n",
    "\n",
    "baytown_deep = baytown_deep.apply(dropyears)\n",
    "\n",
    "seabrook = seabrook.apply(dropyears)\n",
    "\n",
    "clear_lake_shallow = clear_lake_shallow.apply(dropyears)\n",
    "\n",
    "clear_lake_deep = clear_lake_deep.apply(dropyears)\n",
    "\n",
    "pasadena = pasadena.apply(dropyears)"
   ]
  },
  {
   "cell_type": "code",
   "execution_count": 76,
   "metadata": {},
   "outputs": [
    {
     "data": {
      "text/html": [
       "<div>\n",
       "<style>\n",
       "    .dataframe thead tr:only-child th {\n",
       "        text-align: right;\n",
       "    }\n",
       "\n",
       "    .dataframe thead th {\n",
       "        text-align: left;\n",
       "    }\n",
       "\n",
       "    .dataframe tbody tr th {\n",
       "        vertical-align: top;\n",
       "    }\n",
       "</style>\n",
       "<table border=\"1\" class=\"dataframe\">\n",
       "  <thead>\n",
       "    <tr style=\"text-align: right;\">\n",
       "      <th></th>\n",
       "      <th>Compaction</th>\n",
       "    </tr>\n",
       "    <tr>\n",
       "      <th>Measurement_date</th>\n",
       "      <th></th>\n",
       "    </tr>\n",
       "  </thead>\n",
       "  <tbody>\n",
       "    <tr>\n",
       "      <th>1980-07-23</th>\n",
       "      <td>0.672</td>\n",
       "    </tr>\n",
       "    <tr>\n",
       "      <th>1980-08-19</th>\n",
       "      <td>0.690</td>\n",
       "    </tr>\n",
       "    <tr>\n",
       "      <th>1980-09-16</th>\n",
       "      <td>0.714</td>\n",
       "    </tr>\n",
       "    <tr>\n",
       "      <th>1980-10-14</th>\n",
       "      <td>0.735</td>\n",
       "    </tr>\n",
       "    <tr>\n",
       "      <th>1980-11-10</th>\n",
       "      <td>0.745</td>\n",
       "    </tr>\n",
       "  </tbody>\n",
       "</table>\n",
       "</div>"
      ],
      "text/plain": [
       "                  Compaction\n",
       "Measurement_date            \n",
       "1980-07-23             0.672\n",
       "1980-08-19             0.690\n",
       "1980-09-16             0.714\n",
       "1980-10-14             0.735\n",
       "1980-11-10             0.745"
      ]
     },
     "execution_count": 76,
     "metadata": {},
     "output_type": "execute_result"
    }
   ],
   "source": [
    "# test to double check the function worked correctly.\n",
    "\n",
    "addicks.head()"
   ]
  },
  {
   "cell_type": "markdown",
   "metadata": {},
   "source": [
    "Next, I create a \"diff_\" column that takes the difference in subsidence between each measurement day."
   ]
  },
  {
   "cell_type": "code",
   "execution_count": 77,
   "metadata": {
    "collapsed": true
   },
   "outputs": [],
   "source": [
    "list_to_change = [southwest, east_end, addicks, \n",
    "                  johnson_space, texas_city, baytown_shallow, baytown_deep, \n",
    "                  seabrook, clear_lake_shallow, clear_lake_deep, pasadena]"
   ]
  },
  {
   "cell_type": "code",
   "execution_count": 78,
   "metadata": {},
   "outputs": [
    {
     "data": {
      "text/html": [
       "<div>\n",
       "<style>\n",
       "    .dataframe thead tr:only-child th {\n",
       "        text-align: right;\n",
       "    }\n",
       "\n",
       "    .dataframe thead th {\n",
       "        text-align: left;\n",
       "    }\n",
       "\n",
       "    .dataframe tbody tr th {\n",
       "        vertical-align: top;\n",
       "    }\n",
       "</style>\n",
       "<table border=\"1\" class=\"dataframe\">\n",
       "  <thead>\n",
       "    <tr style=\"text-align: right;\">\n",
       "      <th></th>\n",
       "      <th>Compaction</th>\n",
       "      <th>diff_</th>\n",
       "    </tr>\n",
       "    <tr>\n",
       "      <th>Measurement_date</th>\n",
       "      <th></th>\n",
       "      <th></th>\n",
       "    </tr>\n",
       "  </thead>\n",
       "  <tbody>\n",
       "    <tr>\n",
       "      <th>1980-07-23</th>\n",
       "      <td>0.672</td>\n",
       "      <td>0.000</td>\n",
       "    </tr>\n",
       "    <tr>\n",
       "      <th>1980-08-19</th>\n",
       "      <td>0.690</td>\n",
       "      <td>0.018</td>\n",
       "    </tr>\n",
       "    <tr>\n",
       "      <th>1980-09-16</th>\n",
       "      <td>0.714</td>\n",
       "      <td>0.024</td>\n",
       "    </tr>\n",
       "    <tr>\n",
       "      <th>1980-10-14</th>\n",
       "      <td>0.735</td>\n",
       "      <td>0.021</td>\n",
       "    </tr>\n",
       "    <tr>\n",
       "      <th>1980-11-10</th>\n",
       "      <td>0.745</td>\n",
       "      <td>0.010</td>\n",
       "    </tr>\n",
       "  </tbody>\n",
       "</table>\n",
       "</div>"
      ],
      "text/plain": [
       "                  Compaction  diff_\n",
       "Measurement_date                   \n",
       "1980-07-23             0.672  0.000\n",
       "1980-08-19             0.690  0.018\n",
       "1980-09-16             0.714  0.024\n",
       "1980-10-14             0.735  0.021\n",
       "1980-11-10             0.745  0.010"
      ]
     },
     "execution_count": 78,
     "metadata": {},
     "output_type": "execute_result"
    }
   ],
   "source": [
    "# Im using the diff method to find the difference between each row of Compaction\n",
    "\n",
    "for df in list_to_change:\n",
    "    df[\"diff_\"] = df.Compaction.diff()\n",
    "    \n",
    "    df.fillna(0, inplace = True)\n",
    "    \n",
    "addicks.head()"
   ]
  },
  {
   "cell_type": "markdown",
   "metadata": {
    "collapsed": true
   },
   "source": [
    "But I need to take the sum of the previous row of diff_ column and the current diff column. This operation will give me the actual Compaction for each time period."
   ]
  },
  {
   "cell_type": "code",
   "execution_count": 79,
   "metadata": {
    "scrolled": true
   },
   "outputs": [
    {
     "data": {
      "text/html": [
       "<div>\n",
       "<style>\n",
       "    .dataframe thead tr:only-child th {\n",
       "        text-align: right;\n",
       "    }\n",
       "\n",
       "    .dataframe thead th {\n",
       "        text-align: left;\n",
       "    }\n",
       "\n",
       "    .dataframe tbody tr th {\n",
       "        vertical-align: top;\n",
       "    }\n",
       "</style>\n",
       "<table border=\"1\" class=\"dataframe\">\n",
       "  <thead>\n",
       "    <tr style=\"text-align: right;\">\n",
       "      <th></th>\n",
       "      <th>Compaction</th>\n",
       "      <th>diff_</th>\n",
       "      <th>cumsum_</th>\n",
       "    </tr>\n",
       "    <tr>\n",
       "      <th>Measurement_date</th>\n",
       "      <th></th>\n",
       "      <th></th>\n",
       "      <th></th>\n",
       "    </tr>\n",
       "  </thead>\n",
       "  <tbody>\n",
       "    <tr>\n",
       "      <th>1980-07-23</th>\n",
       "      <td>0.672</td>\n",
       "      <td>0.000</td>\n",
       "      <td>0.000</td>\n",
       "    </tr>\n",
       "    <tr>\n",
       "      <th>1980-08-19</th>\n",
       "      <td>0.690</td>\n",
       "      <td>0.018</td>\n",
       "      <td>0.018</td>\n",
       "    </tr>\n",
       "    <tr>\n",
       "      <th>1980-09-16</th>\n",
       "      <td>0.714</td>\n",
       "      <td>0.024</td>\n",
       "      <td>0.042</td>\n",
       "    </tr>\n",
       "    <tr>\n",
       "      <th>1980-10-14</th>\n",
       "      <td>0.735</td>\n",
       "      <td>0.021</td>\n",
       "      <td>0.063</td>\n",
       "    </tr>\n",
       "    <tr>\n",
       "      <th>1980-11-10</th>\n",
       "      <td>0.745</td>\n",
       "      <td>0.010</td>\n",
       "      <td>0.073</td>\n",
       "    </tr>\n",
       "  </tbody>\n",
       "</table>\n",
       "</div>"
      ],
      "text/plain": [
       "                  Compaction  diff_  cumsum_\n",
       "Measurement_date                            \n",
       "1980-07-23             0.672  0.000    0.000\n",
       "1980-08-19             0.690  0.018    0.018\n",
       "1980-09-16             0.714  0.024    0.042\n",
       "1980-10-14             0.735  0.021    0.063\n",
       "1980-11-10             0.745  0.010    0.073"
      ]
     },
     "execution_count": 79,
     "metadata": {},
     "output_type": "execute_result"
    }
   ],
   "source": [
    "# I use the \"cumsum\" method on the \"diff_\" column to achieve my want.\n",
    "\n",
    "for df in list_to_change: \n",
    "    df[\"cumsum_\"] = df.diff_.cumsum()\n",
    "    \n",
    "addicks.head() # to see the cumsum_ column."
   ]
  },
  {
   "cell_type": "code",
   "execution_count": 80,
   "metadata": {},
   "outputs": [
    {
     "data": {
      "text/html": [
       "<div>\n",
       "<style>\n",
       "    .dataframe thead tr:only-child th {\n",
       "        text-align: right;\n",
       "    }\n",
       "\n",
       "    .dataframe thead th {\n",
       "        text-align: left;\n",
       "    }\n",
       "\n",
       "    .dataframe tbody tr th {\n",
       "        vertical-align: top;\n",
       "    }\n",
       "</style>\n",
       "<table border=\"1\" class=\"dataframe\">\n",
       "  <thead>\n",
       "    <tr style=\"text-align: right;\">\n",
       "      <th></th>\n",
       "      <th>cumsum_</th>\n",
       "    </tr>\n",
       "    <tr>\n",
       "      <th>Measurement_date</th>\n",
       "      <th></th>\n",
       "    </tr>\n",
       "  </thead>\n",
       "  <tbody>\n",
       "    <tr>\n",
       "      <th>1980-07-23</th>\n",
       "      <td>0.000</td>\n",
       "    </tr>\n",
       "    <tr>\n",
       "      <th>1980-08-19</th>\n",
       "      <td>0.018</td>\n",
       "    </tr>\n",
       "    <tr>\n",
       "      <th>1980-09-16</th>\n",
       "      <td>0.042</td>\n",
       "    </tr>\n",
       "    <tr>\n",
       "      <th>1980-10-14</th>\n",
       "      <td>0.063</td>\n",
       "    </tr>\n",
       "    <tr>\n",
       "      <th>1980-11-10</th>\n",
       "      <td>0.073</td>\n",
       "    </tr>\n",
       "  </tbody>\n",
       "</table>\n",
       "</div>"
      ],
      "text/plain": [
       "                  cumsum_\n",
       "Measurement_date         \n",
       "1980-07-23          0.000\n",
       "1980-08-19          0.018\n",
       "1980-09-16          0.042\n",
       "1980-10-14          0.063\n",
       "1980-11-10          0.073"
      ]
     },
     "execution_count": 80,
     "metadata": {},
     "output_type": "execute_result"
    }
   ],
   "source": [
    "# drop the uncessary columns from the dataframes\n",
    "\n",
    "for df in list_to_change:\n",
    "    df.drop(\"Compaction\", axis = 1, inplace = True)\n",
    "    \n",
    "    df.drop(\"diff_\", axis = 1, inplace = True)\n",
    "    \n",
    "addicks.head() # to see the dropped columns"
   ]
  },
  {
   "cell_type": "code",
   "execution_count": 81,
   "metadata": {},
   "outputs": [
    {
     "data": {
      "text/html": [
       "<div>\n",
       "<style>\n",
       "    .dataframe thead tr:only-child th {\n",
       "        text-align: right;\n",
       "    }\n",
       "\n",
       "    .dataframe thead th {\n",
       "        text-align: left;\n",
       "    }\n",
       "\n",
       "    .dataframe tbody tr th {\n",
       "        vertical-align: top;\n",
       "    }\n",
       "</style>\n",
       "<table border=\"1\" class=\"dataframe\">\n",
       "  <thead>\n",
       "    <tr style=\"text-align: right;\">\n",
       "      <th></th>\n",
       "      <th>Compaction</th>\n",
       "    </tr>\n",
       "    <tr>\n",
       "      <th>Measurement_date</th>\n",
       "      <th></th>\n",
       "    </tr>\n",
       "  </thead>\n",
       "  <tbody>\n",
       "    <tr>\n",
       "      <th>1980-07-23</th>\n",
       "      <td>0.000</td>\n",
       "    </tr>\n",
       "    <tr>\n",
       "      <th>1980-08-19</th>\n",
       "      <td>0.018</td>\n",
       "    </tr>\n",
       "    <tr>\n",
       "      <th>1980-09-16</th>\n",
       "      <td>0.042</td>\n",
       "    </tr>\n",
       "    <tr>\n",
       "      <th>1980-10-14</th>\n",
       "      <td>0.063</td>\n",
       "    </tr>\n",
       "    <tr>\n",
       "      <th>1980-11-10</th>\n",
       "      <td>0.073</td>\n",
       "    </tr>\n",
       "  </tbody>\n",
       "</table>\n",
       "</div>"
      ],
      "text/plain": [
       "                  Compaction\n",
       "Measurement_date            \n",
       "1980-07-23             0.000\n",
       "1980-08-19             0.018\n",
       "1980-09-16             0.042\n",
       "1980-10-14             0.063\n",
       "1980-11-10             0.073"
      ]
     },
     "execution_count": 81,
     "metadata": {},
     "output_type": "execute_result"
    }
   ],
   "source": [
    "# rename cumsum_ to \"Compaction\"\n",
    "\n",
    "for df in list_to_change: \n",
    "    df.columns = [\"Compaction\"]\n",
    "    \n",
    "addicks.head() # to see the final product"
   ]
  },
  {
   "cell_type": "code",
   "execution_count": 82,
   "metadata": {
    "scrolled": true
   },
   "outputs": [
    {
     "name": "stdout",
     "output_type": "stream",
     "text": [
      "                  Compaction\n",
      "Measurement_date            \n",
      "1980-07-22             0.000\n",
      "1980-08-19             0.008\n",
      "1980-09-16             0.014\n",
      "1980-10-14             0.002\n",
      "1980-11-10             0.025\n",
      "\n",
      "\n",
      "                  Compaction\n",
      "Measurement_date            \n",
      "1980-06-24             0.000\n",
      "1980-07-22             0.007\n",
      "1980-08-19             0.017\n",
      "1980-09-05             0.020\n",
      "1980-10-14             0.033\n",
      "\n",
      "\n",
      "                  Compaction\n",
      "Measurement_date            \n",
      "1980-07-23             0.000\n",
      "1980-07-30             0.008\n",
      "1980-08-19             0.020\n",
      "1980-09-16             0.046\n",
      "1980-10-14             0.066\n",
      "\n",
      "\n",
      "                  Compaction\n",
      "Measurement_date            \n",
      "1980-07-22             0.000\n",
      "1980-08-19             0.007\n",
      "1980-09-15             0.011\n",
      "1980-10-15             0.014\n",
      "1980-11-10             0.021\n",
      "\n",
      "\n",
      "                  Compaction\n",
      "Measurement_date            \n",
      "1980-07-23             0.000\n",
      "1980-08-19             0.018\n",
      "1980-09-16             0.042\n",
      "1980-10-14             0.063\n",
      "1980-11-10             0.073\n",
      "\n",
      "\n",
      "                  Compaction\n",
      "Measurement_date            \n",
      "1980-07-22             0.000\n",
      "1980-08-19             0.004\n",
      "1980-09-15             0.013\n",
      "1980-10-15             0.017\n",
      "1980-11-10             0.019\n",
      "\n",
      "\n",
      "                  Compaction\n",
      "Measurement_date            \n",
      "1980-07-22             0.000\n",
      "1980-08-19             0.003\n",
      "1980-09-16             0.003\n",
      "1980-10-14             0.005\n",
      "1980-11-10             0.008\n",
      "\n",
      "\n",
      "                  Compaction\n",
      "Measurement_date            \n",
      "1980-07-23             0.000\n",
      "1980-08-19             0.029\n",
      "1980-09-05             0.057\n",
      "1980-09-10            -0.049\n",
      "1980-09-16            -0.042\n",
      "\n",
      "\n",
      "                  Compaction\n",
      "Measurement_date            \n",
      "1980-07-23             0.000\n",
      "1980-08-19             0.047\n",
      "1980-09-05             0.076\n",
      "1980-09-10             0.000\n",
      "1980-09-16             0.011\n",
      "\n",
      "\n",
      "                  Compaction\n",
      "Measurement_date            \n",
      "1980-07-22             0.000\n",
      "1980-08-19             0.014\n",
      "1980-09-16             0.032\n",
      "1980-10-14             0.033\n",
      "1980-11-10             0.039\n",
      "\n",
      "\n",
      "                  Compaction\n",
      "Measurement_date            \n",
      "1980-07-22             0.000\n",
      "1980-08-19             0.006\n",
      "1980-09-15             0.014\n",
      "1980-10-15             0.019\n",
      "1980-11-10             0.025\n",
      "\n",
      "\n",
      "                  Compaction\n",
      "Measurement_date            \n",
      "1980-07-22             0.000\n",
      "1980-08-19             0.006\n",
      "1980-09-15             0.014\n",
      "1980-10-15             0.019\n",
      "1980-11-10             0.024\n",
      "\n",
      "\n",
      "                  Compaction\n",
      "Measurement_date            \n",
      "1980-07-22             0.000\n",
      "1980-08-19             0.036\n",
      "1980-09-15             0.058\n",
      "1980-10-15             0.063\n",
      "1980-11-10             0.067\n",
      "\n",
      "\n"
     ]
    }
   ],
   "source": [
    "# check to see if all of the dfs now start in July of 1980. \n",
    "\n",
    "alldfs_list = [lake_houston, northeast, southwest, east_end, addicks, \n",
    "               johnson_space, texas_city, baytown_shallow, baytown_deep, \n",
    "               seabrook, clear_lake_shallow, clear_lake_deep, pasadena]\n",
    "\n",
    "for df in alldfs_list: \n",
    "    print(df.head())\n",
    "    \n",
    "    print(\"\\n\")"
   ]
  },
  {
   "cell_type": "code",
   "execution_count": 83,
   "metadata": {},
   "outputs": [
    {
     "data": {
      "text/plain": [
       "456"
      ]
     },
     "execution_count": 83,
     "metadata": {},
     "output_type": "execute_result"
    }
   ],
   "source": [
    "len(addicks.Compaction)"
   ]
  },
  {
   "cell_type": "markdown",
   "metadata": {},
   "source": [
    "To look at the final compaction of every site, I print the last row of each dataframe.\n",
    "\n",
    "Texas City and Johnson Space land has elevated in the past 40 years. The rest of the locations have sunk anywhere from .6 to 3 inches."
   ]
  },
  {
   "cell_type": "code",
   "execution_count": 84,
   "metadata": {},
   "outputs": [
    {
     "name": "stdout",
     "output_type": "stream",
     "text": [
      "                  Compaction\n",
      "Measurement_date            \n",
      "2015-12-28             0.608\n",
      "                  Compaction\n",
      "Measurement_date            \n",
      "2015-12-23             0.905\n",
      "                  Compaction\n",
      "Measurement_date            \n",
      "2015-12-23             1.627\n",
      "                  Compaction\n",
      "Measurement_date            \n",
      "2015-12-23             0.514\n",
      "                  Compaction\n",
      "Measurement_date            \n",
      "2015-12-23             2.994\n",
      "                  Compaction\n",
      "Measurement_date            \n",
      "2015-12-21            -1.215\n",
      "                  Compaction\n",
      "Measurement_date            \n",
      "2015-12-21            -0.087\n",
      "                  Compaction\n",
      "Measurement_date            \n",
      "2015-12-28             0.508\n",
      "                  Compaction\n",
      "Measurement_date            \n",
      "2015-12-28             0.263\n",
      "                  Compaction\n",
      "Measurement_date            \n",
      "2015-12-21             0.421\n",
      "                  Compaction\n",
      "Measurement_date            \n",
      "2015-12-21             0.445\n",
      "                  Compaction\n",
      "Measurement_date            \n",
      "2015-12-21             0.465\n",
      "                  Compaction\n",
      "Measurement_date            \n",
      "2015-12-21             0.163\n"
     ]
    }
   ],
   "source": [
    "for df in alldfs_list: \n",
    "    print(df.tail(1))"
   ]
  },
  {
   "cell_type": "markdown",
   "metadata": {
    "collapsed": true
   },
   "source": [
    "### Step 4: Plotting the Data"
   ]
  },
  {
   "cell_type": "markdown",
   "metadata": {},
   "source": [
    "I want to see all of the trends of compaction at the different extensometer sites throughout Houston. Below I will plot all 13 sites.\n",
    "\n",
    "I had to get a little creative here. An uneven amont of dataframes made sub-plotting difficult. For a work-around, I made up a fake dataframe with the same index as the other dataframes. I use the fake datafram (nonedf) as a filler for subplots 153, and 353."
   ]
  },
  {
   "cell_type": "code",
   "execution_count": 85,
   "metadata": {},
   "outputs": [
    {
     "data": {
      "image/png": "[encoded data removed]",
      "text/plain": [
       "<matplotlib.figure.Figure at 0x10fac2a58>"
      ]
     },
     "metadata": {},
     "output_type": "display_data"
    }
   ],
   "source": [
    "########################## my work around ###########################\n",
    "\n",
    "nonedf = pasadena.copy() # this is me making a placeholder dataframe \n",
    "\n",
    "nonedf[\"Compaction_\"] = np.nan # I fill it with NaN values \n",
    "\n",
    "nonedf.Compaction_.fillna(0, inplace = True) # then fill the NaN with 0s\n",
    "\n",
    "nonedf.drop(\"Compaction\", axis = 1, inplace = True) # drop the initial column\n",
    "\n",
    "nonedf.columns = [\"Compaction\"] # and rename the NaN column to Compaction\n",
    "\n",
    "########################################################################\n",
    "\n",
    "fig, ax = plt.subplots(nrows = 5, ncols = 3, sharex = True, figsize = (18,10))\n",
    "\n",
    "\n",
    "ax = ax.ravel() # this lets me use a for loop on all of the dfs.\n",
    "\n",
    "var_list = [lake_houston, northeast, southwest, east_end, addicks, \n",
    "            johnson_space, texas_city, baytown_shallow, baytown_deep, \n",
    "            seabrook, clear_lake_shallow, clear_lake_deep, nonedf, pasadena, nonedf]\n",
    "\n",
    "# above are my dataframes.\n",
    "\n",
    "nice_name = [\"Lake Houston\", \"Northeast\", \"Southwest\", \"East End\", \"Addicks\",\n",
    "             \"Johnson Space\", \"Texas City\", \"Baytown Shallow\", \"Baytown Deep\", \n",
    "             \"Seabrook\", \"Clear Lake Shallow\", \"Clear Lake Deep\", \" \", \"Pasadena\", \" \"]\n",
    "\n",
    "# this list I will use to name all of the charts.\n",
    "\n",
    "################################################################################\n",
    "\n",
    "count = 0\n",
    "\n",
    "for xxx in ax:\n",
    "    xxx.plot(var_list[count].Compaction, linewidth = 3.0)\n",
    "    \n",
    "    xxx.set_title(nice_name[count], fontsize = 14)\n",
    "    \n",
    "    xxx.spines[\"right\"].set_visible(False) # remove the top spines\n",
    "    \n",
    "    xxx.spines[\"top\"].set_visible(False) # remove the right spines\n",
    "    \n",
    "    xxx.set_xlabel(\"Year\", fontsize = 10) # set the x label to Year\n",
    "    \n",
    "    xxx.set_ylabel(\"Compaction\", fontsize = 10) # set the Y label to Compaction\n",
    "    \n",
    "    xxx.set_ylim(0.0, 2.0) # set the y axis limits \n",
    "    \n",
    "    count = count + 1 # update the count \n",
    "    \n",
    "#####################################################################\n",
    "\n",
    "fig.suptitle(\"Subsidence\", fontsize = 22, fontweight = \"bold\", y = 1.15)\n",
    "\n",
    "# above formats the title and adds an extra spacing between the title and graphs\n",
    "\n",
    "plt.tight_layout(pad=0.4, w_pad=0.5, h_pad=1.0)\n",
    "\n",
    "# above makes the graphs fit nicely."
   ]
  },
  {
   "cell_type": "markdown",
   "metadata": {},
   "source": [
    "* * *"
   ]
  },
  {
   "cell_type": "markdown",
   "metadata": {
    "collapsed": true
   },
   "source": [
    "### Step 5: Interprutting the Data\n",
    "\n",
    "This data provided by USGS highlights many interesting points about subsidence and regulation. \n",
    "\n",
    "**Effects of Water Extraction on Subsidence**\n",
    "- Seabrook supports the fact that water extraction leads to subsidence.\n",
    "\n",
    "**Effect of HGSD regulation**\n",
    "- HGSD regulation takes effect in 1990. Since then less water is being extracted from aquifers and therefore less subsidence occurs. \n",
    "\n",
    "- The Addicks site is a perfect example of how well regulation of water extraction diminishes sinking since HGSD regulation takes place much later than the other sites. \n",
    "\n",
    "I will use additional graphs to shine further light on these points."
   ]
  },
  {
   "cell_type": "markdown",
   "metadata": {},
   "source": [
    "#### Seabrook"
   ]
  },
  {
   "cell_type": "code",
   "execution_count": 86,
   "metadata": {},
   "outputs": [
    {
     "data": {
      "image/png": "[encoded data removed]",
      "text/plain": [
       "<matplotlib.figure.Figure at 0x110ab7828>"
      ]
     },
     "metadata": {},
     "output_type": "display_data"
    }
   ],
   "source": [
    "fig, ax = plt.subplots(figsize = (15,8)) # creating the ax\n",
    "\n",
    "ax.plot(seabrook.Compaction, color = \"orange\") # plotting seabrook data \n",
    "\n",
    "############# creating inset #################################\n",
    "\n",
    "axins = zoomed_inset_axes(ax, 3.0, loc=7) \n",
    "\n",
    "# above creates an axis on top of the original ax, \n",
    "# tells it how much to zoom in (3.0)\n",
    "# and tells it what position to be in (center right)\n",
    "\n",
    "axins.plot(seabrook[\"Compaction\"], color = \"b\")\n",
    "\n",
    "# above plots the seabrook data inside the inset\n",
    "\n",
    "x1, x2, y1, y2 = \"1998\", \"2000\", 0.32, .425\n",
    "axins.set_xlim(x1, x2) # apply the x-limits\n",
    "axins.set_ylim(y1, y2) # apply the y - limits \n",
    "# this sets the limits for what to show in the inset\n",
    "\n",
    "\n",
    "from mpl_toolkits.axes_grid1.inset_locator import mark_inset\n",
    "mark_inset(ax, axins, loc1=2, loc2=4, fc=\"none\", ec=\"0.5\")\n",
    "\n",
    "############### formatting ###################################\n",
    "\n",
    "ax.set_title(\"Seabrook\", fontsize = 14, fontweight = \"bold\", y = 1.15) \n",
    "ax.set_ylabel(\"Compaction\", fontsize = 14,)\n",
    "ax.set_xlabel(\"Year\", fontsize = 14,)\n",
    "# adding the title, and x and y labels\n",
    "\n",
    "ax.spines[\"top\"].set_visible(False)\n",
    "ax.spines[\"right\"].set_visible(False)\n",
    "# making the spines invisible\n",
    "\n",
    "ax.legend([\"Seabrook Compaction\"],frameon=False)\n",
    "# creating the legend\n",
    "\n",
    "############# inset axis ####################################\n",
    "years = mdates.YearLocator() # grabbing the Year   \n",
    "months = mdates.MonthLocator(range(1, 13), \n",
    "                             bymonthday=1, interval=3)\n",
    "# grabbing every three months \n",
    "yearsFmt = mdates.DateFormatter('%Y') # formatting the Year\n",
    "mthsFmt = mdates.DateFormatter('%b') # formatting the month\n",
    "\n",
    "axins.xaxis.set_major_locator(years) \n",
    "axins.xaxis.set_minor_locator(months)\n",
    "axins.xaxis.set_major_formatter(yearsFmt)\n",
    "axins.xaxis.set_minor_formatter(mthsFmt)\n",
    "\n",
    "plt.setp(axins.xaxis.get_majorticklabels(), \n",
    "         rotation=45, y = -.02)\n",
    "\n",
    "\n",
    "plt.show()"
   ]
  },
  {
   "cell_type": "markdown",
   "metadata": {},
   "source": [
    "The above graph demonstrates seasonal subsidence. In the hot and dry months of the year (May to September) more water is extracted from the aquifer near this site. This leads to drier earth and more compaction. Whenever it is wetter and less water is being taken, the land rebounds and elevates. This pattern can be seen every year. \n",
    "\n",
    "However, since HGDS regulation has gone into place, compaction has continued at a decreasing rate. "
   ]
  },
  {
   "cell_type": "markdown",
   "metadata": {},
   "source": [
    "#### Decreasing rate of compaction"
   ]
  },
  {
   "cell_type": "code",
   "execution_count": 87,
   "metadata": {
    "scrolled": true
   },
   "outputs": [
    {
     "data": {
      "image/png": "[encoded data removed]",
      "text/plain": [
       "<matplotlib.figure.Figure at 0x110c7b828>"
      ]
     },
     "metadata": {},
     "output_type": "display_data"
    }
   ],
   "source": [
    "fig, ax = plt.subplots(figsize = (8,5)) \n",
    "\n",
    "southwest.Compaction.plot(ax = ax, linewidth = 3.0, color = \"r\")\n",
    "northeast.Compaction.plot(ax = ax, linewidth = 3.0, color = \"b\")\n",
    "lake_houston.Compaction.plot(ax = ax, linewidth = 3.0, color = \"g\")\n",
    "east_end.Compaction.plot(ax = ax, linewidth = 3.0, color = \"pink\")\n",
    "clear_lake_shallow.Compaction.plot(ax = ax, linewidth = 3.0, color = \"orange\")\n",
    "\n",
    "ax.set_title(\"Decreasing Rate of Compaction\", fontsize = 14, fontweight = \"bold\", y = 1.15) \n",
    "ax.set_ylabel(\"Compaction\", fontsize = 14,)\n",
    "ax.set_xlabel(\"Year\", fontsize = 14,)\n",
    "\n",
    "ax.legend([\"Southwest\", \"Northeast\", \"Lake Houston\", \"East End\", \"Clear Lake\"],\n",
    "          frameon=False) \n",
    "\n",
    "ax.spines[\"top\"].set_visible(False)\n",
    "ax.spines[\"right\"].set_visible(False)\n",
    "\n",
    "ax.set_ylim(0.00, 2.00)\n",
    "\n",
    "# below I make the line for 1990\n",
    "\n",
    "ax.axvline(x= \"1990\", \n",
    "           color='k',  \n",
    "           linestyle='--', \n",
    "           linewidth=2)\n",
    "\n",
    "message = \"1990 - Compaction increases at a decreasing rate\"\n",
    "\n",
    "ax.text(\"1991\", 1.8, message, horizontalalignment='left', fontweight = 1.5)\n",
    "\n",
    "plt.show()"
   ]
  },
  {
   "cell_type": "markdown",
   "metadata": {},
   "source": [
    "The data on most sites show that the slopes of the graphs, the rate of compaction, was increasing at a faster rate in the 1980s and has shallowed out since the early 1990s. While subsidence has increased, it is not increasing at a decreasing rate. This can mostly be attributed to the founding of Harris-Galveston Subsidence District (HGSD) in 1975. \n",
    "\n",
    "HGSD regulated the amount of water that could be extracted from the aquifers in the Harris-Galveston area. We can see a direct effect on when those regulations took place and the rates of compaction progressively decreasing. \n",
    "\n",
    "A depiction of this phenomenon is provided above.  "
   ]
  },
  {
   "cell_type": "markdown",
   "metadata": {},
   "source": [
    "### Addicks\n"
   ]
  },
  {
   "cell_type": "code",
   "execution_count": 88,
   "metadata": {},
   "outputs": [
    {
     "data": {
      "image/png": "[encoded data removed]",
      "text/plain": [
       "<matplotlib.figure.Figure at 0x1028c0e80>"
      ]
     },
     "metadata": {},
     "output_type": "display_data"
    }
   ],
   "source": [
    "fig, ax = plt.subplots(figsize = (15,6))\n",
    "\n",
    "addicks.Compaction.plot(ax = ax, \n",
    "                        linewidth = 3.0, color = \"r\")\n",
    "\n",
    "########## formatting ########################\n",
    "ax.set_title(\"Addicks\", fontsize = 14, fontweight = \"bold\", y = 1.15) \n",
    "ax.set_ylabel(\"Compaction\", fontsize = 14,)\n",
    "ax.set_xlabel(\"Year\", fontsize = 14,)\n",
    "\n",
    "ax.legend([\"Addicks\"],frameon=False) \n",
    "\n",
    "ax.spines[\"top\"].set_visible(False)\n",
    "ax.spines[\"right\"].set_visible(False)\n",
    "\n",
    "ax.set_ylim(0.00, 3.50)\n",
    "\n",
    "years = mdates.YearLocator()   # every year\n",
    "months = mdates.MonthLocator()  # every month\n",
    "yearsFmt = mdates.DateFormatter('%Y')\n",
    "\n",
    "ax.xaxis.set_major_locator(years)\n",
    "ax.xaxis.set_major_formatter(yearsFmt)\n",
    "ax.xaxis.set_minor_locator(months)\n",
    "\n",
    "\n",
    "ax.axvline(x= \"2003\", \n",
    "           color='k',  \n",
    "           linestyle='--', \n",
    "           linewidth=2)\n",
    "\n",
    "ax.axvline(x= \"2011\", \n",
    "           color='k',  \n",
    "           linestyle='--', \n",
    "           linewidth=2)\n",
    "\n",
    "message2003 = \"2003\"\n",
    "message2011 = \"2011\"\n",
    "\n",
    "ax.text(\"2003-6\", 3.5, message2003, horizontalalignment='left', fontweight = 2.0)\n",
    "ax.text(\"2011-6\", 3.5, message2011, horizontalalignment='left', fontweight = 2.0)\n",
    "\n",
    "first_slope = \"slope = .1\"\n",
    "plt.text(\"1990\", 1.8, first_slope, fontsize = 13, rotation = 25)\n",
    "\n",
    "second_slope = \"slope = .023\"\n",
    "plt.text(\"2006\", 3, second_slope, fontsize = 13, rotation = 3)\n",
    "\n",
    "plt.show()"
   ]
  },
  {
   "cell_type": "markdown",
   "metadata": {},
   "source": [
    "To further prove the positive effect of HGDS regulation, take a look at Addicks. \n",
    "\n",
    "The addicks extensometer happens to be located in a area where HGDS regulation did not apply until 2011. Therefore, Addicks generally experienced higher levels of compaction than any other site from 1980 forward. \n",
    "\n",
    "We can clearly see that compaction remained steady from 1980 to 2003, with about .1 feet of the earth compacting each measurement. In 2003, the USGS personnel deemed the adjacent well-supply where water was being pulled from as being inoperative. This curtailed the sinking of the land area. In 2011, the regulation went into effect."
   ]
  },
  {
   "cell_type": "markdown",
   "metadata": {
    "collapsed": true
   },
   "source": [
    "* * *"
   ]
  },
  {
   "cell_type": "markdown",
   "metadata": {},
   "source": [
    "### Summary \n",
    "\n",
    "Houston struggles from land subsidence because of it's arid and dry weather as well as its palcement below sea level. However, deep land water extraction from aquifers exasterbates this problem. This can be seen in the seasonal water extraction at Seabrook. HGDS's regulation has helped curtail the compaction of Houston since it's inception in 1975. \n",
    "\n",
    "One long term solution to this problem is for residents and devlopments to get their water from surface supplies, instead of the ground. Natural resources like surrounding lakes and rivers should be utilized. However, this option is a more costly way of getting water. \n",
    "\n",
    "Unless we want another Oil Bay on our hands, Houstonians should be aware of the effects of subsidence on the land they live on and the organizations helping to protect them. "
   ]
  },
  {
   "cell_type": "code",
   "execution_count": null,
   "metadata": {
    "collapsed": true
   },
   "outputs": [],
   "source": []
  }
 ],
 "metadata": {
  "kernelspec": {
   "display_name": "Python 3",
   "language": "python",
   "name": "python3"
  },
  "language_info": {
   "codemirror_mode": {
    "name": "ipython",
    "version": 3
   },
   "file_extension": ".py",
   "mimetype": "text/x-python",
   "name": "python",
   "nbconvert_exporter": "python",
   "pygments_lexer": "ipython3",
   "version": "3.6.3"
  }
 },
 "nbformat": 4,
 "nbformat_minor": 2
}
